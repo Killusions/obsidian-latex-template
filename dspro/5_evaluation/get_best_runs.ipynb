{
 "cells": [
  {
   "cell_type": "markdown",
   "metadata": {},
   "source": [
    "# Checking and comparing remote model metrics to get the best runs"
   ]
  },
  {
   "cell_type": "code",
   "execution_count": null,
   "metadata": {},
   "outputs": [],
   "source": [
    "import sys\n",
    "\n",
    "\n",
    "from best_run_loader import BestRunLoader\n",
    "\n",
    "sys.path.insert(0, \"../\")\n",
    "from data_loader import resolve_env_variable"
   ]
  },
  {
   "cell_type": "code",
   "execution_count": null,
   "metadata": {},
   "outputs": [],
   "source": [
    "entity = resolve_env_variable(\"nlp_ls\", \"WANDB_ENTITY\", True)  # Please provide your own entity\n",
    "if entity == \"nlp_ls\":\n",
    "    print(\"Please provide your own wandb entity if you are not part of our project, add WANDB_ENTITY to your .env.\")\n",
    "\n",
    "# Check availability of the best run\n",
    "metric_name = \"Best Validation Accuracy Top 1\"\n",
    "project_names = [\"coordinates\", \"region\", \"country\"]\n",
    "file_names_to_download = [\".pth\", \".json\"]\n",
    "\n",
    "loader = BestRunLoader(entity, metric_name, project_names, file_names_to_download)\n",
    "\n",
    "# See the keys of the results\n",
    "print(\"\\n\", loader.results.keys(), \"\\n\")"
   ]
  }
 ],
 "metadata": {
  "kernelspec": {
   "display_name": ".venv",
   "language": "python",
   "name": "python3"
  },
  "language_info": {
   "codemirror_mode": {
    "name": "ipython",
    "version": 3
   },
   "file_extension": ".py",
   "mimetype": "text/x-python",
   "name": "python",
   "nbconvert_exporter": "python",
   "pygments_lexer": "ipython3",
   "version": "3.10.14"
  }
 },
 "nbformat": 4,
 "nbformat_minor": 2
}
