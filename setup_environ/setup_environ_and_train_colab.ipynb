{
 "cells": [
  {
   "cell_type": "markdown",
   "metadata": {
    "id": "_yWRbs8dyA6J"
   },
   "source": [
    "## Clone Project, save data locally on runtime and train model"
   ]
  },
  {
   "cell_type": "code",
   "execution_count": null,
   "metadata": {
    "colab": {
     "base_uri": "https://localhost:8080/"
    },
    "id": "Q1Pmq0js_qND",
    "outputId": "613dbee3-fce9-4863-d2cd-111df928dcfe"
   },
   "outputs": [],
   "source": [
    "from google.colab import drive, userdata\n",
    "import os\n",
    "\n",
    "# Mount Google Drive\n",
    "drive.mount(\"/content/drive\")\n",
    "\n",
    "# Prompt to enter the access token securely\n",
    "ACCESS_TOKEN = userdata.get(\"access_token_gitlab\")\n",
    "WANDB_TOKEN = userdata.get(\"wandb_token\")\n",
    "\n",
    "# Store the token in an environment variable\n",
    "os.environ[\"ACCESS_TOKEN\"] = ACCESS_TOKEN\n",
    "os.environ[\"WANDB_TOKEN\"] = WANDB_TOKEN\n",
    "\n",
    "# Make File runnable and run it\n",
    "!chmod +x ./drive/MyDrive/setup_environ_and_train.sh\n",
    "!./drive/MyDrive/setup_environ_and_train.sh"
   ]
  }
 ],
 "metadata": {
  "accelerator": "GPU",
  "colab": {
   "gpuType": "T4",
   "machine_shape": "hm",
   "provenance": []
  },
  "kernelspec": {
   "display_name": "Python 3",
   "name": "python3"
  },
  "language_info": {
   "codemirror_mode": {
    "name": "ipython",
    "version": 3
   },
   "file_extension": ".py",
   "mimetype": "text/x-python",
   "name": "python",
   "nbconvert_exporter": "python",
   "pygments_lexer": "ipython3",
   "version": "3.12.3"
  }
 },
 "nbformat": 4,
 "nbformat_minor": 0
}
